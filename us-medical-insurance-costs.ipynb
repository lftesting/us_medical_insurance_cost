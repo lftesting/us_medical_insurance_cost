{
 "cells": [
  {
   "cell_type": "markdown",
   "metadata": {},
   "source": [
    "# U.S. Medical Insurance Costs"
   ]
  },
  {
   "cell_type": "markdown",
   "metadata": {},
   "source": [
    "SCOPE OF WORK: PATIENT DEMOGRAPHICS AND COST ANALYSIS \n",
    "\n",
    "Goals: \n",
    "- Provide insights into the dataset's demographics and cost related features.\n",
    "- Key points: average age of patients, geographic trends, healthcare cost difference for smokers or non smokers.\n",
    "- Identify limitations on dataset and assess potential impact on the results.\n",
    "\n",
    "Data:\n",
    "- Key variables: demographic, financial and lifestyle.\n",
    "- Quality Assessment: examine representation balance of the dataset and explore for missing values or inconsistencies.\n",
    "- Identify possible biases and document implications or possible impact in results.\n",
    "\n",
    "Analytics:\n",
    "- Compute average age of individuals and examine geographic distribution.\n",
    "- Compare costs/age depending on lifestyle/healtcare variables (smokers, children).\n",
    "- Exploratory insights: correlation between attributes (age/children/smokers vs. costs).\n",
    "\n",
    "\n",
    "\n"
   ]
  },
  {
   "cell_type": "markdown",
   "metadata": {},
   "source": [
    "Save dataset via Python variables. \n",
    "We will create a list of dictionaries containing every row in our insurance csv file."
   ]
  },
  {
   "cell_type": "code",
   "execution_count": 57,
   "metadata": {},
   "outputs": [],
   "source": [
    "import csv\n",
    "\n",
    "# Open csv file\n",
    "with open(\"insurance.csv\", \"r\") as insurance_file:\n",
    "    # Use reader to read rows as dictionaries\n",
    "    reader = csv.DictReader(insurance_file)\n",
    "\n",
    "    # Create an empty list to store each row as a dictionary\n",
    "    insurance_data = []\n",
    "    \n",
    "    for row in reader:\n",
    "        insurance_data.append({\n",
    "            \"age\": int(row[\"age\"]),\n",
    "            \"sex\": row[\"sex\"],\n",
    "            \"bmi\": float(row[\"bmi\"]),\n",
    "            \"children\": int(row[\"children\"]),\n",
    "            \"smoker\": row[\"smoker\"],\n",
    "            \"region\": row[\"region\"],\n",
    "            \"charges\": float(row[\"charges\"])\n",
    "        })\n",
    "\n",
    "    "
   ]
  },
  {
   "cell_type": "markdown",
   "metadata": {},
   "source": [
    "Now that our data is easily accesible and organised, we want to get some quick information about our sample. We will first get the average age of every person in our dataset."
   ]
  },
  {
   "cell_type": "code",
   "execution_count": 35,
   "metadata": {},
   "outputs": [
    {
     "name": "stdout",
     "output_type": "stream",
     "text": [
      "Average age: 39.21\n"
     ]
    }
   ],
   "source": [
    "# Calculate average age of every person in the dataset\n",
    "average_age = sum(row[\"age\"] for row in insurance_data) / len(insurance_data)\n",
    "print(f\"Average age: {average_age:.2f}\")"
   ]
  },
  {
   "cell_type": "markdown",
   "metadata": {},
   "source": [
    "We would like now to organise people by group ages, so that we know how each group is represented in the sample."
   ]
  },
  {
   "cell_type": "code",
   "execution_count": 36,
   "metadata": {},
   "outputs": [
    {
     "name": "stdout",
     "output_type": "stream",
     "text": [
      "Under 18 years old: 0\n",
      "From 18 to 30 years old: 444\n",
      "From 31 to 50 years old: 538\n",
      "Over 50 years old: 356\n"
     ]
    }
   ],
   "source": [
    "# Compute amount of people for each age group\n",
    "\n",
    "under_18 = 0\n",
    "from_18_to_30 = 0\n",
    "from_31_to_50 = 0\n",
    "over_50 = 0\n",
    "\n",
    "for person in insurance_data:\n",
    "    if person[\"age\"] < 18:\n",
    "        under_18 += 1\n",
    "    elif person[\"age\"] < 31:\n",
    "        from_18_to_30 += 1\n",
    "    elif person[\"age\"] < 51:\n",
    "        from_31_to_50 += 1\n",
    "    else:\n",
    "        over_50 += 1\n",
    "\n",
    "# Display results\n",
    "print(f\"Under 18 years old: {under_18}\")\n",
    "print(f\"From 18 to 30 years old: {from_18_to_30}\")\n",
    "print(f\"From 31 to 50 years old: {from_31_to_50}\")\n",
    "print(f\"Over 50 years old: {over_50}\")"
   ]
  },
  {
   "cell_type": "markdown",
   "metadata": {},
   "source": [
    "We have established that our dataset is well balanced with our age ranges. We will try confirming now if the sample is also balanced in regards of gender."
   ]
  },
  {
   "cell_type": "code",
   "execution_count": 37,
   "metadata": {},
   "outputs": [
    {
     "name": "stdout",
     "output_type": "stream",
     "text": [
      "Total females: 662\n",
      "Total males: 676\n"
     ]
    }
   ],
   "source": [
    "# Check quantities of men and women included in the dataset\n",
    "female_count = 0\n",
    "male_count = 0\n",
    "\n",
    "for person in insurance_data:\n",
    "    if person[\"sex\"] == \"female\":\n",
    "        female_count += 1\n",
    "    else:\n",
    "        male_count += 1\n",
    "\n",
    "print(f\"Total females: {female_count}\")\n",
    "print(f\"Total males: {male_count}\")"
   ]
  },
  {
   "cell_type": "markdown",
   "metadata": {},
   "source": [
    "We will continue now by making sure each age range is also well balanced in terms of gender."
   ]
  },
  {
   "cell_type": "code",
   "execution_count": 38,
   "metadata": {},
   "outputs": [
    {
     "name": "stdout",
     "output_type": "stream",
     "text": [
      "From 18 to 30: 230 males - 214 females.\n",
      "From 31 to 50: 271 males - 267 females.\n",
      "Over 50: 175 males - 181 females.\n"
     ]
    }
   ],
   "source": [
    "male_18_to_30 = 0\n",
    "female_18_to_30 = 0\n",
    "male_31_to_50 = 0\n",
    "female_31_to_50 = 0\n",
    "male_over_50 = 0\n",
    "female_over_50 = 0\n",
    "\n",
    "# Iterate over every person in the dataset to allocate in age and gender group\n",
    "\n",
    "for person in insurance_data:\n",
    "    if person[\"age\"] < 31:\n",
    "        if person[\"sex\"] == \"female\":\n",
    "            female_18_to_30 += 1\n",
    "        else:\n",
    "            male_18_to_30 += 1\n",
    "    elif person[\"age\"] < 51:\n",
    "        if person[\"sex\"] == \"female\":\n",
    "            female_31_to_50 += 1\n",
    "        else: \n",
    "            male_31_to_50 += 1\n",
    "    else:\n",
    "        if person[\"sex\"] == \"female\":\n",
    "            female_over_50 += 1\n",
    "        else:\n",
    "            male_over_50 += 1\n",
    "\n",
    "\n",
    "# Obtain results for each group\n",
    "print(f\"From 18 to 30: {male_18_to_30} males - {female_18_to_30} females.\")\n",
    "print(f\"From 31 to 50: {male_31_to_50} males - {female_31_to_50} females.\")\n",
    "print(f\"Over 50: {male_over_50} males - {female_over_50} females.\")\n"
   ]
  },
  {
   "cell_type": "markdown",
   "metadata": {},
   "source": [
    "Our dataset seems pretty well balanced in terms of age and gender. We will now focus on working with geographical variables to continue our analysis."
   ]
  },
  {
   "cell_type": "code",
   "execution_count": 39,
   "metadata": {},
   "outputs": [
    {
     "name": "stdout",
     "output_type": "stream",
     "text": [
      "{'southwest': 325, 'southeast': 364, 'northwest': 325, 'northeast': 324}\n"
     ]
    }
   ],
   "source": [
    "# Create empty dictionary to store locations (keys) and total amount of persons in dataset (values)\n",
    "locations = {}\n",
    "\n",
    "for record in insurance_data:\n",
    "    # If region already in our dictionary increment count by 1\n",
    "    if record[\"region\"] in locations:\n",
    "        locations[record[\"region\"]] += 1\n",
    "    else:\n",
    "        # If not found in our dictionary, initialize count \n",
    "        locations[record[\"region\"]] = 1\n",
    "\n",
    "print(locations)"
   ]
  },
  {
   "cell_type": "markdown",
   "metadata": {},
   "source": [
    "Time to compare average cost depending on location."
   ]
  },
  {
   "cell_type": "code",
   "execution_count": 40,
   "metadata": {},
   "outputs": [
    {
     "name": "stdout",
     "output_type": "stream",
     "text": [
      "southwest: 12346.94 \n",
      "southeast: 14735.41 \n",
      "northwest: 12417.58 \n",
      "northeast: 13406.38 \n"
     ]
    }
   ],
   "source": [
    "# Initialize a dictionary to store the averages by region\n",
    "average_costs_by_region = {}\n",
    "\n",
    "# Loop through each unique region and calculate the average cost\n",
    "for region in locations:\n",
    "    total_charges = sum(row[\"charges\"] for row in insurance_data if row[\"region\"] == region)\n",
    "    average_costs_by_region[region] = total_charges / locations[region]\n",
    "\n",
    "\n",
    "# Print the results\n",
    "for region in average_costs_by_region:\n",
    "    print(f\"{region}: {average_costs_by_region[region]:.2f} \")\n"
   ]
  },
  {
   "cell_type": "markdown",
   "metadata": {},
   "source": [
    "We have found out that the Southeast region has the highest average cost in the country. We will try to get some insights as to what could be causing this by determining if it is the region with the most smokers or the highest average age."
   ]
  },
  {
   "cell_type": "code",
   "execution_count": 41,
   "metadata": {},
   "outputs": [
    {
     "name": "stdout",
     "output_type": "stream",
     "text": [
      "Region: southwest. Average age: 39.46. Percentage of smokers: 17.85\n",
      "Region: southeast. Average age: 38.94. Percentage of smokers: 25.00\n",
      "Region: northwest. Average age: 39.20. Percentage of smokers: 17.85\n",
      "Region: northeast. Average age: 39.27. Percentage of smokers: 20.68\n"
     ]
    }
   ],
   "source": [
    "# Group data by location \n",
    "region_stats = {}\n",
    "\n",
    "# Iterate over each region and filter rows corresponding to current region\n",
    "for region in locations:\n",
    "    region_data = [row for row in insurance_data if row[\"region\"] == region]\n",
    "\n",
    "    # Calculate average age\n",
    "    avg_age = sum(row[\"age\"] for row in region_data) / len(region_data)\n",
    "\n",
    "    # Calculate percentage of smokers\n",
    "    total_smokers = sum(1 for row in region_data if row[\"smoker\"] == \"yes\")\n",
    "    percentage_smokers = (total_smokers/len(region_data)) * 100\n",
    "\n",
    "    # Store obtained results in the dictionary\n",
    "    region_stats[region] = {\n",
    "        \"average_age\": avg_age,\n",
    "        \"percentage_smokers\": percentage_smokers\n",
    "    }\n",
    "\n",
    "\n",
    "# Print results\n",
    "for region, stats in region_stats.items():\n",
    "    print(f\"Region: {region}. Average age: {stats[\"average_age\"]:.2f}. Percentage of smokers: {stats[\"percentage_smokers\"]:.2f}\")\n",
    "\n"
   ]
  },
  {
   "cell_type": "markdown",
   "metadata": {},
   "source": [
    "We were able to determine the correlation between two variables. The Southeast region, with the highest percentage of smokers, has the highest average cost. The average age does not seem to be a big factor as all regions have a very similar average age."
   ]
  },
  {
   "cell_type": "markdown",
   "metadata": {},
   "source": [
    "Time to shift to lifestyle variables. We will compare insurance cost for people with or without children."
   ]
  },
  {
   "cell_type": "code",
   "execution_count": 42,
   "metadata": {},
   "outputs": [
    {
     "name": "stdout",
     "output_type": "stream",
     "text": [
      "Average insurance cost for people with children: 13949.94\n",
      "Average insurance cost for people that don't have children: 12365.98\n"
     ]
    }
   ],
   "source": [
    "have_children_count = 0\n",
    "no_children_count = 0\n",
    "\n",
    "for person in insurance_data:\n",
    "    if person[\"children\"] > 0:\n",
    "        have_children_count += 1\n",
    "    else: \n",
    "        no_children_count += 1\n",
    "\n",
    "avg_cost_with_children = sum(row[\"charges\"] for row in insurance_data if row[\"children\"] > 0) / have_children_count\n",
    "\n",
    "print(f\"Average insurance cost for people with children: {avg_cost_with_children:.2f}\")\n",
    "\n",
    "avg_cost_no_children = sum(row[\"charges\"] for row in insurance_data if row[\"children\"] == 0) / no_children_count\n",
    "\n",
    "print(f\"Average insurance cost for people that don't have children: {avg_cost_no_children:.2f}\")\n",
    "\n"
   ]
  },
  {
   "cell_type": "markdown",
   "metadata": {},
   "source": [
    "As we can see, people with children tend to have higher insurance costs. We will group them by quantity of children and get their average insurance costs."
   ]
  },
  {
   "cell_type": "code",
   "execution_count": 47,
   "metadata": {},
   "outputs": [
    {
     "name": "stdout",
     "output_type": "stream",
     "text": [
      "Children quantity: 1. Average cost of insurance: 12731.17\n",
      "Children quantity: 3. Average cost of insurance: 15355.32\n",
      "Children quantity: 2. Average cost of insurance: 15073.56\n",
      "Children quantity: 5. Average cost of insurance: 8786.04\n",
      "Children quantity: 4. Average cost of insurance: 13850.66\n"
     ]
    }
   ],
   "source": [
    "# Store new data in separate dictionaries\n",
    "total_cost_per_children_qty = {}\n",
    "count_per_children_qty = {}\n",
    "\n",
    "# Iterate through the records and discard the persons that do not have children\n",
    "for person in insurance_data:\n",
    "    if person[\"children\"] == 0:\n",
    "        continue\n",
    "    else:\n",
    "        # Keep track of count of people and total charges for each children quantity\n",
    "        if person[\"children\"] in total_cost_per_children_qty:\n",
    "            total_cost_per_children_qty[person[\"children\"]] += person[\"charges\"]\n",
    "            count_per_children_qty[person[\"children\"]] += 1\n",
    "        else:\n",
    "            total_cost_per_children_qty[person[\"children\"]] = person[\"charges\"]\n",
    "            count_per_children_qty[person[\"children\"]] = 1\n",
    "\n",
    "# Iterate through total cost per quantity and divide by count to get the average\n",
    "for children_qty in total_cost_per_children_qty:\n",
    "    avg_cost_by_children_qty = total_cost_per_children_qty[children_qty] / count_per_children_qty[children_qty]\n",
    "    print(f\"Children quantity: {children_qty}. Average cost of insurance: {avg_cost_by_children_qty:.2f}\")\n",
    "\n"
   ]
  },
  {
   "cell_type": "markdown",
   "metadata": {},
   "source": [
    "The average cost of insurance for people with 5 children seems considerably low compared to other quantities. We will focus on trying to determine why. As per our previous queries, we were able to see the correlation between percentage of smokers and higher insurance cost. To confirm this, we will take a look at persons with 5 children and their smoker status."
   ]
  },
  {
   "cell_type": "code",
   "execution_count": 56,
   "metadata": {},
   "outputs": [
    {
     "name": "stdout",
     "output_type": "stream",
     "text": [
      "Percentage of smokers for people with 5 children: 5.555555555555555\n"
     ]
    }
   ],
   "source": [
    "# Initialize count for smokers and non-smokers\n",
    "smokers_count = 0\n",
    "non_smokers_count = 0\n",
    "\n",
    "# Obtain total count of each group\n",
    "for person in insurance_data:\n",
    "    if person[\"children\"] == 5:\n",
    "        if person[\"smoker\"] == \"yes\":\n",
    "            smokers_count += 1\n",
    "        else:\n",
    "            non_smokers_count += 1\n",
    "\n",
    "# Calculate percentages for each group\n",
    "percentage_of_smokers = smokers_count * 100 / (smokers_count + non_smokers_count)\n",
    "\n",
    "print(\"Percentage of smokers for people with 5 children: \" + str(percentage_of_smokers))\n"
   ]
  }
 ],
 "metadata": {
  "kernelspec": {
   "display_name": "Python 3",
   "language": "python",
   "name": "python3"
  },
  "language_info": {
   "codemirror_mode": {
    "name": "ipython",
    "version": 3
   },
   "file_extension": ".py",
   "mimetype": "text/x-python",
   "name": "python",
   "nbconvert_exporter": "python",
   "pygments_lexer": "ipython3",
   "version": "3.13.0"
  }
 },
 "nbformat": 4,
 "nbformat_minor": 4
}
